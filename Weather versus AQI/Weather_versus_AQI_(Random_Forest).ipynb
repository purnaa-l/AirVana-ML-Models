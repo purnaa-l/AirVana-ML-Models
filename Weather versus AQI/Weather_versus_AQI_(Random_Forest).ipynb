{
  "nbformat": 4,
  "nbformat_minor": 0,
  "metadata": {
    "colab": {
      "provenance": [],
      "authorship_tag": "ABX9TyNvoKTU2GY+OKvPAIqHvNs7",
      "include_colab_link": true
    },
    "kernelspec": {
      "name": "python3",
      "display_name": "Python 3"
    },
    "language_info": {
      "name": "python"
    }
  },
  "cells": [
    {
      "cell_type": "markdown",
      "metadata": {
        "id": "view-in-github",
        "colab_type": "text"
      },
      "source": [
        "<a href=\"https://colab.research.google.com/github/purnaa-l/MiniProject-ML-Models/blob/main/Weather%20versus%20AQI/Weather_versus_AQI_(Random_Forest).ipynb\" target=\"_parent\"><img src=\"https://colab.research.google.com/assets/colab-badge.svg\" alt=\"Open In Colab\"/></a>"
      ]
    },
    {
      "cell_type": "code",
      "execution_count": null,
      "metadata": {
        "id": "nG_vg3UYqwlE"
      },
      "outputs": [],
      "source": [
        "import pandas as pd\n",
        "import numpy as np\n",
        "from sklearn.model_selection import train_test_split\n",
        "from sklearn.ensemble import RandomForestRegressor\n",
        "from sklearn.metrics import r2_score, mean_squared_error\n",
        "from sklearn.preprocessing import StandardScaler\n",
        "\n",
        "# Load dataset\n",
        "df = pd.read_csv(\"IndianWeatherRepository.csv\")\n"
      ]
    },
    {
      "cell_type": "code",
      "source": [
        "df.columns"
      ],
      "metadata": {
        "id": "HEWOC2z1rVBH",
        "colab": {
          "base_uri": "https://localhost:8080/"
        },
        "outputId": "d5880de8-2c8e-4fa2-e3e4-da05066e06ce"
      },
      "execution_count": null,
      "outputs": [
        {
          "output_type": "execute_result",
          "data": {
            "text/plain": [
              "Index(['country', 'location_name', 'region', 'latitude', 'longitude',\n",
              "       'timezone', 'last_updated_epoch', 'last_updated', 'temperature_celsius',\n",
              "       'temperature_fahrenheit', 'condition_text', 'wind_mph', 'wind_kph',\n",
              "       'wind_degree', 'wind_direction', 'pressure_mb', 'pressure_in',\n",
              "       'precip_mm', 'precip_in', 'humidity', 'cloud', 'feels_like_celsius',\n",
              "       'feels_like_fahrenheit', 'visibility_km', 'visibility_miles',\n",
              "       'uv_index', 'gust_mph', 'gust_kph', 'air_quality_Carbon_Monoxide',\n",
              "       'air_quality_Ozone', 'air_quality_Nitrogen_dioxide',\n",
              "       'air_quality_Sulphur_dioxide', 'air_quality_PM2.5', 'air_quality_PM10',\n",
              "       'air_quality_us-epa-index', 'air_quality_gb-defra-index', 'sunrise',\n",
              "       'sunset', 'moonrise', 'moonset', 'moon_phase', 'moon_illumination'],\n",
              "      dtype='object')"
            ]
          },
          "metadata": {},
          "execution_count": 6
        }
      ]
    },
    {
      "cell_type": "code",
      "source": [
        "\n",
        "# Select features and target\n",
        "features = ['temperature_celsius', 'wind_kph', 'pressure_mb', 'humidity', 'cloud', 'uv_index']\n",
        "target = 'air_quality_PM2.5'"
      ],
      "metadata": {
        "id": "ofrz_n9tsYeS"
      },
      "execution_count": null,
      "outputs": []
    },
    {
      "cell_type": "code",
      "source": [
        "\n",
        "# Drop rows with missing values in selected columns\n",
        "df = df[features + [target]].dropna()\n",
        "\n",
        "# Feature matrix and target vector\n",
        "X = df[features]\n",
        "y = df[target]\n",
        "\n",
        "# Scale features (optional but good for some models)\n",
        "scaler = StandardScaler()\n",
        "X_scaled = scaler.fit_transform(X)\n",
        "\n",
        "# Split data\n",
        "X_train, X_test, y_train, y_test = train_test_split(\n",
        "    X_scaled, y, test_size=0.2, random_state=42\n",
        ")"
      ],
      "metadata": {
        "id": "GgpAcA7lsYlE"
      },
      "execution_count": null,
      "outputs": []
    },
    {
      "cell_type": "code",
      "source": [
        "\n",
        "# Train model\n",
        "model = LinearRegressor()\n",
        "model.fit(X_train, y_train)\n",
        "\n",
        "# Predict\n",
        "y_pred = model.predict(X_test)\n",
        "\n",
        "# Evaluate\n",
        "r2 = r2_score(y_test, y_pred)\n",
        "rmse = np.sqrt(mean_squared_error(y_test, y_pred))\n",
        "\n",
        "print(\"R² Score:\", r2)\n",
        "print(\"RMSE:\", rmse)"
      ],
      "metadata": {
        "colab": {
          "base_uri": "https://localhost:8080/"
        },
        "id": "kiBUXK8EsYnh",
        "outputId": "fdd86c64-2b84-4f4e-a001-d2efaff6b1d3"
      },
      "execution_count": null,
      "outputs": [
        {
          "output_type": "stream",
          "name": "stdout",
          "text": [
            "R² Score: 0.6584416534182311\n",
            "RMSE: 26.402112327796427\n"
          ]
        }
      ]
    },
    {
      "cell_type": "markdown",
      "source": [
        "The accuracy is 0.65. It is not bad, but not a great model as well."
      ],
      "metadata": {
        "id": "df-loNfqs65l"
      }
    }
  ]
}